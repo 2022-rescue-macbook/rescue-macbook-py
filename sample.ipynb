{
 "cells": [
  {
   "cell_type": "markdown",
   "metadata": {},
   "source": [
    "## init"
   ]
  },
  {
   "cell_type": "code",
   "execution_count": null,
   "metadata": {},
   "outputs": [],
   "source": [
    "from transformers import AutoTokenizer, AutoModel\n",
    "import torch\n",
    "\n",
    "tokenizer = AutoTokenizer.from_pretrained(\"microsoft/codebert-base\")\n",
    "model = AutoModel.from_pretrained(\"microsoft/codebert-base\")\n",
    "device = 'cuda' if torch.cuda.is_available() else 'cpu'\n",
    "model.to(device)"
   ]
  },
  {
   "cell_type": "markdown",
   "metadata": {},
   "source": [
    "## create embedding"
   ]
  },
  {
   "cell_type": "code",
   "execution_count": 119,
   "metadata": {},
   "outputs": [],
   "source": [
    "import os\n",
    "\n",
    "fake_num = 50\n",
    "\n",
    "\n",
    "path = \"./code\"\n",
    "id_list = []\n",
    "code_list = []\n",
    "\n",
    "file_lst = os.listdir(path)\n",
    "for file in file_lst:\n",
    "    id_list.append(file[:-len(\".py\")])\n",
    "    filepath = path + '/' + file\n",
    "    with open(filepath) as f:\n",
    "        code_list.append(f.read())"
   ]
  },
  {
   "cell_type": "code",
   "execution_count": 120,
   "metadata": {},
   "outputs": [
    {
     "data": {
      "text/plain": [
       "250"
      ]
     },
     "execution_count": 120,
     "metadata": {},
     "output_type": "execute_result"
    }
   ],
   "source": [
    "## 가짜 코드 생성\n",
    "fake_id_list = []\n",
    "code_list = code_list * fake_num\n",
    "for id in range(fake_num):\n",
    "    fake_id_list.extend(map(lambda x: x+str(id), id_list))\n",
    "\n",
    "id_list = fake_id_list\n",
    "len(id_list)"
   ]
  },
  {
   "cell_type": "code",
   "execution_count": 4,
   "metadata": {},
   "outputs": [],
   "source": [
    "batch_size = 64\n",
    "max_len = 40\n",
    "result = []\n",
    "\n",
    "for idx in range(0, len(id_list), batch_size):\n",
    "    batch_input = tokenizer.batch_encode_plus(\n",
    "        code_list[idx:idx+batch_size],\n",
    "        return_tensors=\"pt\",\n",
    "        max_length = max_len,\n",
    "        truncation = True,\n",
    "        pad_to_max_length = True,\n",
    "        padding=True).to(device)\n",
    "    batch_output = model(**batch_input)\n",
    "    cls_embedding = batch_output.last_hidden_state[:, 0, :]\n",
    "    result.append(cls_embedding.to('cpu'))\n",
    "    del batch_input\n",
    "    del batch_output\n",
    "    del cls_embedding\n",
    "\n",
    "    ## TODO 데이터 커지면 oom 뜸\n"
   ]
  },
  {
   "cell_type": "code",
   "execution_count": 75,
   "metadata": {},
   "outputs": [
    {
     "data": {
      "text/plain": [
       "(250, 768)"
      ]
     },
     "execution_count": 75,
     "metadata": {},
     "output_type": "execute_result"
    }
   ],
   "source": [
    "cls_embedding = torch.cat([r for r in result]).detach().numpy()\n",
    "cls_embedding.shape"
   ]
  },
  {
   "cell_type": "markdown",
   "metadata": {},
   "source": [
    "## PCA"
   ]
  },
  {
   "cell_type": "code",
   "execution_count": 76,
   "metadata": {},
   "outputs": [
    {
     "data": {
      "text/plain": [
       "(250, 4)"
      ]
     },
     "execution_count": 76,
     "metadata": {},
     "output_type": "execute_result"
    }
   ],
   "source": [
    "from sklearn.preprocessing import StandardScaler\n",
    "from sklearn.decomposition import PCA\n",
    "\n",
    "cls_scaled= StandardScaler().fit_transform(cls_embedding)\n",
    "\n",
    "pca = PCA(n_components=0.99)\n",
    "pca.fit(cls_scaled)\n",
    "cls_pca = pca.transform(cls_scaled)\n",
    "cls_pca.shape"
   ]
  },
  {
   "cell_type": "markdown",
   "metadata": {},
   "source": [
    "## TSNE"
   ]
  },
  {
   "cell_type": "code",
   "execution_count": 78,
   "metadata": {},
   "outputs": [
    {
     "name": "stderr",
     "output_type": "stream",
     "text": [
      "/home/tako/anaconda3/envs/junyoung/lib/python3.9/site-packages/sklearn/manifold/_t_sne.py:800: FutureWarning: The default initialization in TSNE will change from 'random' to 'pca' in 1.2.\n",
      "  warnings.warn(\n",
      "/home/tako/anaconda3/envs/junyoung/lib/python3.9/site-packages/sklearn/manifold/_t_sne.py:810: FutureWarning: The default learning rate in TSNE will change from 200.0 to 'auto' in 1.2.\n",
      "  warnings.warn(\n"
     ]
    },
    {
     "data": {
      "text/plain": [
       "(250, 2)"
      ]
     },
     "execution_count": 78,
     "metadata": {},
     "output_type": "execute_result"
    }
   ],
   "source": [
    "from sklearn.manifold import TSNE\n",
    "\n",
    "tsne = TSNE(n_components=2, random_state=0)\n",
    "cls_tsne = tsne.fit_transform(cls_pca)\n",
    "cls_tsne.shape"
   ]
  },
  {
   "cell_type": "markdown",
   "metadata": {},
   "source": [
    "## Mean shift"
   ]
  },
  {
   "cell_type": "code",
   "execution_count": 82,
   "metadata": {},
   "outputs": [
    {
     "name": "stdout",
     "output_type": "stream",
     "text": [
      "bandwidth 값: 24\n",
      "cluster labels 유형: [0 1 2 3]\n"
     ]
    }
   ],
   "source": [
    "from sklearn.cluster import MeanShift\n",
    "import numpy as np\n",
    "from sklearn.cluster import estimate_bandwidth\n",
    "\n",
    "bandwidth = int(estimate_bandwidth(cls_tsne))\n",
    "print('bandwidth 값:', bandwidth)\n",
    "meanshift= MeanShift(bandwidth=bandwidth)\n",
    "label_list= meanshift.fit_predict(cls_tsne)\n",
    "cluster_label = np.unique(label_list)\n",
    "print('cluster labels 유형:', cluster_label)"
   ]
  },
  {
   "cell_type": "code",
   "execution_count": 89,
   "metadata": {},
   "outputs": [
    {
     "data": {
      "image/png": "[encoded data removed]",
      "text/plain": [
       "<Figure size 640x480 with 1 Axes>"
      ]
     },
     "metadata": {},
     "output_type": "display_data"
    }
   ],
   "source": [
    "import matplotlib.pyplot as plt\n",
    "\n",
    "clustered_cls = []\n",
    "index_list = np.array([i for i in range(len(label_list))])\n",
    "for label in cluster_label:\n",
    "    labeled = cls_tsne[label_list == label]\n",
    "    plt.scatter(labeled[:, 0], labeled[:, 1], label = label)\n",
    "    clustered_cls.append(index_list[label_list == label])\n"
   ]
  },
  {
   "cell_type": "code",
   "execution_count": 124,
   "metadata": {},
   "outputs": [
    {
     "data": {
      "text/plain": [
       "[array([  0,   2,   5,   7,  10,  12,  15,  17,  20,  22,  25,  27,  30,\n",
       "         32,  35,  37,  40,  42,  45,  47,  50,  52,  55,  57,  60,  62,\n",
       "         65,  67,  70,  72,  75,  77,  80,  82,  85,  87,  90,  92,  95,\n",
       "         97, 100, 102, 105, 107, 110, 112, 115, 117, 120, 122, 125, 127,\n",
       "        130, 132, 135, 137, 140, 142, 145, 147, 150, 152, 155, 157, 160,\n",
       "        162, 165, 167, 170, 172, 175, 177, 180, 182, 185, 187, 190, 192,\n",
       "        195, 197, 200, 202, 205, 207, 210, 212, 215, 217, 220, 222, 225,\n",
       "        227, 230, 232, 235, 237, 240, 242, 245, 247]),\n",
       " array([  3,   8,  13,  18,  23,  28,  33,  38,  43,  48,  53,  58,  63,\n",
       "         68,  73,  78,  83,  88,  93,  98, 103, 108, 113, 118, 123, 128,\n",
       "        133, 138, 143, 148, 153, 158, 163, 168, 173, 178, 183, 188, 193,\n",
       "        198, 203, 208, 213, 218, 223, 228, 233, 238, 243, 248]),\n",
       " array([  1,   6,  11,  16,  21,  26,  31,  36,  41,  46,  51,  56,  61,\n",
       "         66,  71,  76,  81,  86,  91,  96, 101, 106, 111, 116, 121, 126,\n",
       "        131, 136, 141, 146, 151, 156, 161, 166, 171, 176, 181, 186, 191,\n",
       "        196, 201, 206, 211, 216, 221, 226, 231, 236, 241, 246]),\n",
       " array([  4,   9,  14,  19,  24,  29,  34,  39,  44,  49,  54,  59,  64,\n",
       "         69,  74,  79,  84,  89,  94,  99, 104, 109, 114, 119, 124, 129,\n",
       "        134, 139, 144, 149, 154, 159, 164, 169, 174, 179, 184, 189, 194,\n",
       "        199, 204, 209, 214, 219, 224, 229, 234, 239, 244, 249])]"
      ]
     },
     "execution_count": 124,
     "metadata": {},
     "output_type": "execute_result"
    }
   ],
   "source": [
    "clustered_cls"
   ]
  },
  {
   "cell_type": "markdown",
   "metadata": {},
   "source": [
    "## Create Group"
   ]
  },
  {
   "cell_type": "code",
   "execution_count": 127,
   "metadata": {},
   "outputs": [],
   "source": [
    "from itertools import zip_longest\n",
    "\n",
    "min_group_member = 4\n",
    "max_group_member = 8\n",
    "group_list = np.array([-1] * len(id_list))\n",
    "group_member_num = min(8, max(4, len(cluster_label)))\n",
    "group_num = 0\n",
    "cnt = 0\n",
    "\n",
    "\n",
    "for member_list in zip_longest(*clustered_cls):\n",
    "    for member in member_list:\n",
    "        if member == None:\n",
    "            continue\n",
    "\n",
    "        cnt += 1\n",
    "        group_list[member] = group_num\n",
    "\n",
    "        if cnt % group_member_num == 0:\n",
    "            group_num += 1\n"
   ]
  },
  {
   "cell_type": "markdown",
   "metadata": {},
   "source": [
    "## Create Data\n",
    "\n",
    "id - id_list[n]\n",
    "x - cls_tsne[n:0]\n",
    "y - cls_tsne[n:1]\n",
    "label - label_list[n]\n",
    "group - sdfdf\n",
    "code - code_list[n]"
   ]
  },
  {
   "cell_type": "code",
   "execution_count": null,
   "metadata": {},
   "outputs": [],
   "source": [
    "\n",
    "\n",
    "# interface CodeData {\n",
    "# \tid: number; // 사용자 고유 아이디 (Random)\n",
    "# \tname: string // 사용자 이름 (윤세린, 최지원, 김준영, 장미)\n",
    "# \tx: number; // Scatterplot 상에서 x 좌표 \n",
    "# \ty: number; // Scatterplot 상에서 y 좌표 \n",
    "# \tlabel: string; // Cluster 이름 (A, B, C...)\n",
    "# \tgroup: string; // 그룹 이름 (가, 나, 다)\n",
    "# \tcode: string; // Raw code string \n",
    "# }\n",
    "\n",
    "# interface Response {\n",
    "# \tdata: CodeData[];\n",
    "# \tcentroid: string[];\n",
    "# \tlabels: string[];\n",
    "# \tgroups: string[];\n",
    "# };"
   ]
  }
 ],
 "metadata": {
  "kernelspec": {
   "display_name": "Python 3.10.4 ('junyoung')",
   "language": "python",
   "name": "python3"
  },
  "language_info": {
   "codemirror_mode": {
    "name": "ipython",
    "version": 3
   },
   "file_extension": ".py",
   "mimetype": "text/x-python",
   "name": "python",
   "nbconvert_exporter": "python",
   "pygments_lexer": "ipython3",
   "version": "3.9.7"
  },
  "orig_nbformat": 4,
  "vscode": {
   "interpreter": {
    "hash": "8f66745bd1bb9b2b47be4ba055607b73469ed8afe5fe9092795f77c067216248"
   }
  }
 },
 "nbformat": 4,
 "nbformat_minor": 2
}
